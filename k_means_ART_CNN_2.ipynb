{
  "nbformat": 4,
  "nbformat_minor": 0,
  "metadata": {
    "colab": {
      "provenance": [],
      "mount_file_id": "1dHDoRi-2oaJfqBGQyD08vZBN0XTSL8h-",
      "authorship_tag": "ABX9TyN3xrKNk5G2TPBVDBOWTqyG",
      "include_colab_link": true
    },
    "kernelspec": {
      "name": "python3",
      "display_name": "Python 3"
    },
    "language_info": {
      "name": "python"
    }
  },
  "cells": [
    {
      "cell_type": "markdown",
      "metadata": {
        "id": "view-in-github",
        "colab_type": "text"
      },
      "source": [
        "<a href=\"https://colab.research.google.com/github/Chou-fang/report/blob/main/k_means_ART_CNN_2.ipynb\" target=\"_parent\"><img src=\"https://colab.research.google.com/assets/colab-badge.svg\" alt=\"Open In Colab\"/></a>"
      ]
    },
    {
      "cell_type": "code",
      "source": [
        "import numpy as np\n",
        "import cv2\n",
        "from google.colab.patches import cv2_imshow  # 如果在 Colab\n",
        "\n",
        "# 你的原始影像\n",
        "# image = cv2.imread('your_image.jpg')\n",
        "output_image = image.copy()  # 建一張複製的影像，避免修改原圖\n",
        "\n",
        "# 所有門的座標\n",
        "all_door = [\n",
        "    np.array([[634, 233], [740, 233], [738, 319], [634, 321]]),\n",
        "    np.array([[499, 234], [602, 229], [607, 318], [509, 320]]),\n",
        "    np.array([[379, 268], [470, 265], [477, 323], [469, 331], [464, 339], [465, 346], [466, 351], [396, 351], [386, 321]]),\n",
        "    np.array([[266, 250], [345, 248], [356, 327], [281, 332]]),\n",
        "    np.array([[182, 266], [243, 263], [254, 326], [251, 330], [246, 337], [197, 340]])\n",
        "]\n",
        "\n",
        "# 進階版 for-loop\n",
        "for idx, door_poly in enumerate(all_door, start=1):\n",
        "    # 計算外接矩形\n",
        "    x, y, w, h = cv2.boundingRect(door_poly)\n",
        "\n",
        "    # 建立 mask\n",
        "    mask = np.zeros(image.shape[:2], dtype=np.uint8)\n",
        "    cv2.fillPoly(mask, [door_poly], 255)\n",
        "\n",
        "    # 遮罩影像\n",
        "    masked_img = cv2.bitwise_and(image, image, mask=mask)\n",
        "\n",
        "    # 裁切 ROI\n",
        "    roi = masked_img[y:y+h, x:x+w]\n",
        "\n",
        "    # 計算面積\n",
        "    area = cv2.contourArea(door_poly)\n",
        "\n",
        "    # 🔥 在 output_image 上畫出門的輪廓\n",
        "    cv2.polylines(output_image, [door_poly], isClosed=True, color=(0, 255, 0), thickness=2)\n",
        "\n",
        "    # 🔥 在門的外接矩形左上角標註 Door 編號\n",
        "    text_position = (x, y - 10) if y - 10 > 10 else (x, y + 20)  # 避免文字太上面跑出圖外\n",
        "    cv2.putText(output_image, f'Door {idx}', text_position,\n",
        "                cv2.FONT_HERSHEY_SIMPLEX, 0.7, (0, 0, 255), 2)\n",
        "\n",
        "    # 印出門的資訊\n",
        "    print(f\"Door {idx}: 面積 = {area:.2f} (pixels)\")\n",
        "\n",
        "    # 顯示每個門的 ROI\n",
        "    cv2_imshow(roi)\n",
        "\n",
        "    # 儲存 ROI（可選）\n",
        "    # cv2.imwrite(f'door_{idx}_roi.png', roi)\n",
        "\n",
        "# 🔥 最後，顯示整張標註後的總圖\n",
        "print(\"標註完畢，顯示整體影像：\")\n",
        "cv2_imshow(output_image)\n",
        "\n",
        "# 儲存標註後的影像（可選）\n",
        "# cv2.imwrite('output_with_doors.png', output_image)\n"
      ],
      "metadata": {
        "id": "sW5Tp6NutXHI"
      },
      "execution_count": null,
      "outputs": []
    },
    {
      "cell_type": "code",
      "source": [
        "all_door = [\n",
        "    np.array([[634,233],[740,233],[738,319],[634,321]]),\n",
        "    np.array([[499,234],[602,229],[607,318],[509,320]]),\n",
        "    np.array([[379,268],[470,265],[477,323],[469,331],[464,339],[465,346],[466,351],[396,351],[386,321]]),\n",
        "    np.array([[266,250],[345,248],[356,327],[281,332]]),\n",
        "    np.array([[182,266],[243,263],[254,326],[251,330],[246,337],[197,340]])\n",
        " ]\n",
        "\n",
        "polygons = [\n",
        "    np.array([[626,207],[741,207],[736,321],[634,325]]), # door_cell_1\n",
        "    np.array([[490,211],[605,208],[607,320],[502,326]]), # door_cell_2\n",
        "    np.array([[363,219],[469,215],[478,350],[383,353]]), # door_cell_3\n",
        "    np.array([[252,232],[343,225],[357,334],[270,338]]), # door_cell_4\n",
        "    np.array([[160,244],[236,234],[249,333],[181,345]])] # door_cell_5\n",
        "image_copy = image.copy()\n",
        "\n",
        "# 每個 door 做處理\n",
        "for i, (poly, door) in enumerate(zip(polygons, all_door)):\n",
        "    poly_x, poly_y, poly_w, poly_h = cv2.boundingRect(poly)\n",
        "    door_x, door_y, door_w, door_h = cv2.boundingRect(door)\n",
        "\n",
        "    mask = np.zeros(image.shape[:2], dtype=np.uint8) # 建立空的 mask\n",
        "    cv2.fillPoly(mask, [poly], 255) # 繪製多邊形到 mask 上（白色）\n",
        "    masked_img = cv2.bitwise_and(image, image, mask=mask) # 對原圖做遮罩\n",
        "    masked_img[poly_y:poly_y+poly_h, poly_x:poly_x+poly_w] = 0\n",
        "    image_copy[poly_y:poly_y+poly_h, poly_x:poly_x+poly_w] = masked_img[poly_y:poly_y+poly_h, poly_x:poly_x+poly_w] # 裁切 ROI（僅取 bounding box 區域）\n",
        "\n",
        "    # roi = masked_img[y:y+h, x:x+w] # 裁切 ROI（僅取 bounding box 區域）\n",
        "\n",
        "    # area = cv2.contourArea(door) # 計算面積\n",
        "\n",
        "    cv2_imshow(image_copy) # 顯示與儲存結果\n"
      ],
      "metadata": {
        "id": "_DX4cti-ztNa"
      },
      "execution_count": null,
      "outputs": []
    },
    {
      "cell_type": "code",
      "source": [
        "##由此開始"
      ],
      "metadata": {
        "id": "PhWkPOW9thOx"
      },
      "execution_count": null,
      "outputs": []
    },
    {
      "cell_type": "code",
      "execution_count": 1,
      "metadata": {
        "id": "yhpmRN8KKwYb"
      },
      "outputs": [],
      "source": [
        "import cv2\n",
        "import numpy as np\n",
        "import matplotlib.pyplot as plt\n",
        "from google.colab.patches import cv2_imshow\n",
        "from sklearn.cluster import KMeans\n",
        "import pandas as pd"
      ]
    },
    {
      "cell_type": "code",
      "source": [
        "image = cv2.imread('/content/drive/MyDrive/night/2024-08-03_79.jpg')\n",
        "# image = cv2.imread('/content/drive/MyDrive/night/2024-12-17_10.jpg')# 無水門\n",
        "# cv2_imshow(image)\n",
        "# print(image)"
      ],
      "metadata": {
        "id": "M2998DDrK4br"
      },
      "execution_count": 66,
      "outputs": []
    },
    {
      "cell_type": "markdown",
      "source": [
        "##自適應共振網絡(ART)"
      ],
      "metadata": {
        "id": "34dow1Qmz3dw"
      }
    },
    {
      "cell_type": "code",
      "source": [
        "class ART1:\n",
        "    def __init__(self, input_size, vigilance=0.8, epsilon=1e-6):\n",
        "        self.input_size = input_size\n",
        "        self.vigilance = vigilance\n",
        "        self.epsilon = epsilon\n",
        "        self.num_categories = 0\n",
        "        self.bottom_up_weights = []\n",
        "        self.top_down_weights = []\n",
        "\n",
        "    def _match(self, input_vec, top_down_weight):\n",
        "        # 計算匹配度\n",
        "        numerator = np.sum(np.logical_and(input_vec, top_down_weight))\n",
        "        denominator = np.sum(input_vec) + self.epsilon\n",
        "        return numerator / denominator\n",
        "\n",
        "    def _activate(self, input_vec):\n",
        "        activations = []\n",
        "        for w in self.bottom_up_weights:\n",
        "            activations.append(np.sum(np.logical_and(input_vec, w)))\n",
        "        return activations\n",
        "\n",
        "    def _update_weights(self, index, input_vec):\n",
        "        # 更新 top-down\n",
        "        self.top_down_weights[index] = np.logical_and(input_vec, self.top_down_weights[index]).astype(int)\n",
        "        # 更新 bottom-up\n",
        "        numer = np.logical_and(input_vec, self.top_down_weights[index]).astype(int)\n",
        "        denom = self.epsilon + np.sum(numer)\n",
        "        self.bottom_up_weights[index] = numer / denom\n",
        "\n",
        "    def train(self, input_vec):\n",
        "        if self.num_categories == 0:\n",
        "            # 初始第一類別\n",
        "            self.top_down_weights.append(input_vec.copy())\n",
        "            self.bottom_up_weights.append(input_vec / (self.epsilon + np.sum(input_vec)))\n",
        "            self.num_categories += 1\n",
        "            return 0\n",
        "\n",
        "        activations = self._activate(input_vec)\n",
        "        candidates = np.argsort(activations)[::-1]  # 從高到低排序\n",
        "\n",
        "        for index in candidates:\n",
        "            match_score = self._match(input_vec, self.top_down_weights[index])\n",
        "            if match_score >= self.vigilance:\n",
        "                self._update_weights(index, input_vec)\n",
        "                return index  # 成功分類\n",
        "\n",
        "        # 無法匹配任何一類別 → 建立新類別\n",
        "        self.top_down_weights.append(input_vec.copy())\n",
        "        self.bottom_up_weights.append(input_vec / (self.epsilon + np.sum(input_vec)))\n",
        "        self.num_categories += 1\n",
        "        return self.num_categories - 1\n"
      ],
      "metadata": {
        "id": "KkejiFOZK-S9"
      },
      "execution_count": 67,
      "outputs": []
    },
    {
      "cell_type": "markdown",
      "source": [
        "##建立基準mask\n"
      ],
      "metadata": {
        "id": "e10BuAFLzxOP"
      }
    },
    {
      "cell_type": "code",
      "source": [
        "all_door = [\n",
        "    np.array([[634,233],[740,233],[738,319],[634,321]]),\n",
        "    np.array([[499,234],[602,229],[607,318],[509,320]]),\n",
        "    np.array([[379,268],[470,265],[477,323],[469,331],[464,339],[465,346],[466,351],[396,351],[386,321]]),\n",
        "    np.array([[266,250],[345,248],[356,327],[281,332]]),\n",
        "    np.array([[182,266],[243,263],[254,326],[251,330],[246,337],[197,340]])\n",
        "]\n",
        "\n",
        "polygons = [\n",
        "    np.array([[626,207],[741,207],[736,321],[634,325]]), # door_cell_1\n",
        "    np.array([[490,211],[605,208],[607,320],[502,326]]), # door_cell_2\n",
        "    np.array([[363,219],[469,215],[478,350],[383,353]]), # door_cell_3\n",
        "    np.array([[252,232],[343,225],[357,334],[270,338]]), # door_cell_4\n",
        "    np.array([[160,244],[236,234],[249,333],[181,345]])  # door_cell_5\n",
        "]\n",
        "\n",
        "image_copy = image.copy()\n",
        "image_copy = cv2.cvtColor(image_copy, cv2.COLOR_BGR2GRAY)\n",
        "\n",
        "for poly in polygons:\n",
        "    cv2.fillPoly(image_copy, [poly], 0)\n",
        "\n",
        "for door in all_door:\n",
        "    cv2.fillPoly(image_copy, [door], 255)\n",
        "\n",
        "# cv2_imshow(image_copy)\n",
        "\n",
        "\n",
        "\n",
        "for i, poly in enumerate(polygons):\n",
        "    x, y, w, h = cv2.boundingRect(poly)\n",
        "\n",
        "    # 建立空的 mask\n",
        "    mask = np.zeros(image_copy.shape[:2], dtype=np.uint8)\n",
        "    cv2.fillPoly(mask, [poly], 255) # 繪製多邊形到 mask 上（白色）\n",
        "    masked_img = cv2.bitwise_and(image_copy, image_copy, mask=mask) # 對原圖做遮罩\n",
        "    globals()['mask_'+str(i)] = masked_img[y:y+h, x:x+w] # 裁切 ROI（僅取 bounding box 區域）\n",
        "\n",
        "    cv2_imshow(globals()['mask_'+str(i)])\n",
        "\n",
        "\n"
      ],
      "metadata": {
        "colab": {
          "base_uri": "https://localhost:8080/",
          "height": 620
        },
        "id": "4f7-JVPsxvXm",
        "outputId": "8f1d3366-5ae1-4bed-cabc-50a16fbb6c93"
      },
      "execution_count": 84,
      "outputs": [
        {
          "output_type": "display_data",
          "data": {
            "text/plain": [
              "<PIL.Image.Image image mode=L size=116x119>"
            ],
            "image/png": "[encoded data removed]",
            "image/jpeg": "[encoded data removed]"
          },
          "metadata": {}
        },
        {
          "output_type": "display_data",
          "data": {
            "text/plain": [
              "<PIL.Image.Image image mode=L size=118x119>"
            ],
            "image/png": "[encoded data removed]",
            "image/jpeg": "[encoded data removed]"
          },
          "metadata": {}
        },
        {
          "output_type": "display_data",
          "data": {
            "text/plain": [
              "<PIL.Image.Image image mode=L size=116x139>"
            ],
            "image/png": "[encoded data removed]",
            "image/jpeg": "[encoded data removed]"
          },
          "metadata": {}
        },
        {
          "output_type": "display_data",
          "data": {
            "text/plain": [
              "<PIL.Image.Image image mode=L size=106x114>"
            ],
            "image/png": "[encoded data removed]",
            "image/jpeg": "[encoded data removed]"
          },
          "metadata": {}
        },
        {
          "output_type": "display_data",
          "data": {
            "text/plain": [
              "<PIL.Image.Image image mode=L size=90x112>"
            ],
            "image/png": "[encoded data removed]",
            "image/jpeg": "[encoded data removed]"
          },
          "metadata": {}
        }
      ]
    },
    {
      "cell_type": "code",
      "source": [
        "cv2_imshow(image)"
      ],
      "metadata": {
        "id": "AwHizEYwARSq"
      },
      "execution_count": null,
      "outputs": []
    },
    {
      "cell_type": "markdown",
      "source": [
        "##圖片前處理"
      ],
      "metadata": {
        "id": "WgdYvTYzj1qw"
      }
    },
    {
      "cell_type": "code",
      "source": [
        "# 每個 door_cell 做處理\n",
        "for i, poly in enumerate(polygons):\n",
        "    x, y, w, h = cv2.boundingRect(poly)\n",
        "\n",
        "    # 建立空的 mask\n",
        "    mask = np.zeros(image.shape[:2], dtype=np.uint8)\n",
        "    cv2.fillPoly(mask, [poly], 255) # 繪製多邊形到 mask 上（白色）\n",
        "    masked_img = cv2.bitwise_and(image, image, mask=mask) # 對原圖做遮罩\n",
        "    roi = masked_img[y:y+h, x:x+w] # 裁切 ROI（僅取 bounding box 區域）\n",
        "\n",
        "    # 轉換形狀\n",
        "    pixels = roi.reshape(-1, 3)  # (像素, RGB)\n",
        "\n",
        "    # KMeans 分群(第一次10群)\n",
        "    n_clusters = 10\n",
        "    kmeans = KMeans(n_clusters=n_clusters, random_state=42, n_init=10)\n",
        "    kmeans.fit(pixels)\n",
        "    labels = kmeans.labels_\n",
        "    centers = kmeans.cluster_centers_.astype('uint8')\n",
        "    segmented_image = centers[labels].reshape(h, w, 3)\n",
        "    print(1)\n",
        "    cv2_imshow(segmented_image)\n",
        "\n",
        "    # KMeans 分群(第二次5群)\n",
        "    pixels = segmented_image.reshape(-1, 3)\n",
        "    n_clusters = 3\n",
        "    kmeans = KMeans(n_clusters=n_clusters, random_state=42, n_init=10)\n",
        "    kmeans.fit(pixels)\n",
        "    labels = kmeans.labels_\n",
        "    centers = kmeans.cluster_centers_.astype('uint8')\n",
        "    segmented_image = centers[labels].reshape(h, w, 3)\n",
        "    print(2)\n",
        "    cv2_imshow(segmented_image)\n",
        "\n",
        "    # # KMeans 分群(第三次5群)\n",
        "    # pixels = segmented_image.reshape(-1, 3)\n",
        "    # n_clusters = 5\n",
        "    # kmeans = KMeans(n_clusters=n_clusters, random_state=42, n_init=10)\n",
        "    # kmeans.fit(pixels)\n",
        "    # labels = kmeans.labels_\n",
        "    # centers = kmeans.cluster_centers_.astype('uint8')\n",
        "    # segmented_image = centers[labels].reshape(h, w, 3)\n",
        "    # print(3)\n",
        "    # cv2_imshow(segmented_image)\n",
        "\n",
        "    # 取出區塊特徵\n",
        "    data = pd.DataFrame(columns=['重心_x', '重心_y', '面積', '與最大面積距離'])\n",
        "\n",
        "    # 計算重心\n",
        "    y_coords, x_coords = np.meshgrid(np.arange(h), np.arange(w), indexing='ij')\n",
        "    cen_x, cen_y = [], []\n",
        "\n",
        "    for label in range(n_clusters):\n",
        "        mask = (labels.reshape(h, w) == label)\n",
        "\n",
        "        if not np.any(mask):\n",
        "            continue\n",
        "\n",
        "        x_c = x_coords[mask].mean()\n",
        "        y_c = y_coords[mask].mean()\n",
        "\n",
        "        cen_x.append(x_c)\n",
        "        cen_y.append(y_c)\n",
        "\n",
        "    # 計算面積\n",
        "    unique_labels, counts = np.unique(labels, return_counts=True)\n",
        "    area = counts.tolist()\n",
        "\n",
        "    # 儲存數據\n",
        "    data['重心_x'] = cen_x\n",
        "    data['重心_y'] = cen_y\n",
        "    data['面積'] = area\n",
        "    data['index'] = range(len(area))\n",
        "\n",
        "\n",
        "    # 計算最大面積的索引\n",
        "    max_index = [np.argmax(data['面積'])]\n",
        "\n",
        "    # 計算與最大面積的距離\n",
        "    dis = np.sqrt((data['重心_x'] - data.loc[max_index, '重心_x'])**2 +\n",
        "                  (data['重心_y'] - data.loc[max_index, '重心_y'])**2)\n",
        "    data['與最大面積距離'] = dis\n",
        "    labels = [1 if value in max_index else 0 for value in labels]\n",
        "    centers = np.array([[0, 0, 0],[255, 255, 255]])\n",
        "\n",
        "    segmented_image = centers[labels].reshape(h, w, 3)\n",
        "    segmented_image = segmented_image.astype(np.float32)\n",
        "\n",
        "    # 形態學開運算\n",
        "    kernel = np.ones((3,3), np.uint8)\n",
        "    erosion = cv2.morphologyEx(segmented_image, cv2.MORPH_OPEN, kernel)\n",
        "\n",
        "\n",
        "    # cv2_imshow(segmented_image)\n",
        "    erosion=cv2.cvtColor(erosion, cv2.COLOR_RGB2GRAY) # 轉灰階(三維降二維)\n",
        "    cv2_imshow(erosion)\n",
        "    vector = erosion.flatten() # 攤平(二維降一維)\n",
        "    print(vector)\n",
        "\n",
        "\n",
        "    # 二值化\n",
        "    # _, binary = cv2.threshold(erosion, 128, 1, cv2.THRESH_BINARY)\n",
        "    # vector = binary.flatten() # 攤平(二維降一維)\n",
        "\n",
        "\n",
        "    # cv2_imshow(binary)\n",
        "\n",
        "\n",
        "\n"
      ],
      "metadata": {
        "colab": {
          "base_uri": "https://localhost:8080/",
          "height": 1000
        },
        "id": "YGKFEOMqK6ic",
        "outputId": "a14100b2-9f26-4436-cb69-c132d7406df9"
      },
      "execution_count": 74,
      "outputs": [
        {
          "output_type": "stream",
          "name": "stdout",
          "text": [
            "1\n"
          ]
        },
        {
          "output_type": "display_data",
          "data": {
            "text/plain": [
              "<PIL.Image.Image image mode=RGB size=116x119>"
            ],
            "image/png": "[encoded data removed]",
            "image/jpeg": "[encoded data removed]"
          },
          "metadata": {}
        },
        {
          "output_type": "stream",
          "name": "stdout",
          "text": [
            "2\n"
          ]
        },
        {
          "output_type": "display_data",
          "data": {
            "text/plain": [
              "<PIL.Image.Image image mode=RGB size=116x119>"
            ],
            "image/png": "[encoded data removed]",
            "image/jpeg": "[encoded data removed]"
          },
          "metadata": {}
        },
        {
          "output_type": "display_data",
          "data": {
            "text/plain": [
              "<PIL.Image.Image image mode=L size=116x119>"
            ],
            "image/png": "[encoded data removed]",
            "image/jpeg": "[encoded data removed]"
          },
          "metadata": {}
        },
        {
          "output_type": "stream",
          "name": "stdout",
          "text": [
            "[0. 0. 0. ... 0. 0. 0.]\n",
            "1\n"
          ]
        },
        {
          "output_type": "display_data",
          "data": {
            "text/plain": [
              "<PIL.Image.Image image mode=RGB size=118x119>"
            ],
            "image/png": "[encoded data removed]",
            "image/jpeg": "[encoded data removed]"
          },
          "metadata": {}
        },
        {
          "output_type": "stream",
          "name": "stdout",
          "text": [
            "2\n"
          ]
        },
        {
          "output_type": "display_data",
          "data": {
            "text/plain": [
              "<PIL.Image.Image image mode=RGB size=118x119>"
            ],
            "image/png": "[encoded data removed]",
            "image/jpeg": "[encoded data removed]"
          },
          "metadata": {}
        },
        {
          "output_type": "display_data",
          "data": {
            "text/plain": [
              "<PIL.Image.Image image mode=L size=118x119>"
            ],
            "image/png": "[encoded data removed]",
            "image/jpeg": "[encoded data removed]"
          },
          "metadata": {}
        },
        {
          "output_type": "stream",
          "name": "stdout",
          "text": [
            "[0. 0. 0. ... 0. 0. 0.]\n",
            "1\n"
          ]
        },
        {
          "output_type": "display_data",
          "data": {
            "text/plain": [
              "<PIL.Image.Image image mode=RGB size=116x139>"
            ],
            "image/png": "[encoded data removed]",
            "image/jpeg": "[encoded data removed]"
          },
          "metadata": {}
        },
        {
          "output_type": "stream",
          "name": "stdout",
          "text": [
            "2\n"
          ]
        },
        {
          "output_type": "display_data",
          "data": {
            "text/plain": [
              "<PIL.Image.Image image mode=RGB size=116x139>"
            ],
            "image/png": "[encoded data removed]",
            "image/jpeg": "[encoded data removed]"
          },
          "metadata": {}
        },
        {
          "output_type": "display_data",
          "data": {
            "text/plain": [
              "<PIL.Image.Image image mode=L size=116x139>"
            ],
            "image/png": "[encoded data removed]",
            "image/jpeg": "[encoded data removed]"
          },
          "metadata": {}
        },
        {
          "output_type": "stream",
          "name": "stdout",
          "text": [
            "[0. 0. 0. ... 0. 0. 0.]\n",
            "1\n"
          ]
        },
        {
          "output_type": "display_data",
          "data": {
            "text/plain": [
              "<PIL.Image.Image image mode=RGB size=106x114>"
            ],
            "image/png": "[encoded data removed]",
            "image/jpeg": "[encoded data removed]"
          },
          "metadata": {}
        },
        {
          "output_type": "stream",
          "name": "stdout",
          "text": [
            "2\n"
          ]
        },
        {
          "output_type": "display_data",
          "data": {
            "text/plain": [
              "<PIL.Image.Image image mode=RGB size=106x114>"
            ],
            "image/png": "[encoded data removed]",
            "image/jpeg": "[encoded data removed]"
          },
          "metadata": {}
        },
        {
          "output_type": "display_data",
          "data": {
            "text/plain": [
              "<PIL.Image.Image image mode=L size=106x114>"
            ],
            "image/png": "[encoded data removed]",
            "image/jpeg": "[encoded data removed]"
          },
          "metadata": {}
        },
        {
          "output_type": "stream",
          "name": "stdout",
          "text": [
            "[0. 0. 0. ... 0. 0. 0.]\n",
            "1\n"
          ]
        },
        {
          "output_type": "display_data",
          "data": {
            "text/plain": [
              "<PIL.Image.Image image mode=RGB size=90x112>"
            ],
            "image/png": "[encoded data removed]",
            "image/jpeg": "[encoded data removed]"
          },
          "metadata": {}
        },
        {
          "output_type": "stream",
          "name": "stdout",
          "text": [
            "2\n"
          ]
        },
        {
          "output_type": "display_data",
          "data": {
            "text/plain": [
              "<PIL.Image.Image image mode=RGB size=90x112>"
            ],
            "image/png": "[encoded data removed]",
            "image/jpeg": "[encoded data removed]"
          },
          "metadata": {}
        },
        {
          "output_type": "display_data",
          "data": {
            "text/plain": [
              "<PIL.Image.Image image mode=L size=90x112>"
            ],
            "image/png": "[encoded data removed]",
            "image/jpeg": "[encoded data removed]"
          },
          "metadata": {}
        },
        {
          "output_type": "stream",
          "name": "stdout",
          "text": [
            "[0. 0. 0. ... 0. 0. 0.]\n"
          ]
        }
      ]
    },
    {
      "cell_type": "code",
      "source": [
        "\n",
        "\n",
        "# 建立 ART1 模型並訓練\n",
        "art = ART1(input_size=25, vigilance=0.85)\n",
        "\n",
        "inputs = [mask_0]\n",
        "labels = ['1']\n",
        "\n",
        "for i, inp in enumerate(inputs):\n",
        "    category = art.train(inp)\n",
        "    print(f\"Input '{labels[i]}' assigned to category: {category}\")\n"
      ],
      "metadata": {
        "colab": {
          "base_uri": "https://localhost:8080/"
        },
        "id": "GQKxIQBrTCzc",
        "outputId": "fa9c13ff-6571-4b05-88c5-763dc72d4701"
      },
      "execution_count": 83,
      "outputs": [
        {
          "output_type": "stream",
          "name": "stdout",
          "text": [
            "Input '1' assigned to category: 0\n"
          ]
        }
      ]
    },
    {
      "cell_type": "code",
      "source": [
        "\n",
        "# ART1 分類器應用：以 KMeans 分群與二值圖像為例\n",
        "\n",
        "# 這份 Notebook 展示如何使用 ART1 對處理過的 door_cell 影像進行分類。\n",
        "\n",
        "## 📦 匯入模組\n",
        "\n",
        "import numpy as np\n",
        "import cv2\n",
        "import pandas as pd\n",
        "from sklearn.cluster import KMeans\n",
        "import matplotlib.pyplot as plt\n",
        "from typing import List\n",
        "\n",
        "## 🧠 定義 ART1 分類模型\n",
        "\n",
        "class ART1:\n",
        "    def __init__(self, input_size, vigilance=0.85, epsilon=1e-6):\n",
        "        self.input_size = input_size\n",
        "        self.vigilance = vigilance\n",
        "        self.epsilon = epsilon\n",
        "        self.num_categories = 0\n",
        "        self.bottom_up_weights = []\n",
        "        self.top_down_weights = []\n",
        "\n",
        "    def _match(self, input_vec, top_down_weight):\n",
        "        numerator = np.sum(np.logical_and(input_vec, top_down_weight))\n",
        "        denominator = np.sum(input_vec) + self.epsilon\n",
        "        return numerator / denominator\n",
        "\n",
        "    def _activate(self, input_vec):\n",
        "        activations = []\n",
        "        for w in self.bottom_up_weights:\n",
        "            activations.append(np.sum(np.logical_and(input_vec, w)))\n",
        "        return activations\n",
        "\n",
        "    def _update_weights(self, index, input_vec):\n",
        "        self.top_down_weights[index] = np.logical_and(input_vec, self.top_down_weights[index]).astype(int)\n",
        "        numer = np.logical_and(input_vec, self.top_down_weights[index]).astype(int)\n",
        "        denom = self.epsilon + np.sum(numer)\n",
        "        self.bottom_up_weights[index] = numer / denom\n",
        "\n",
        "    def train(self, input_vec):\n",
        "        if self.num_categories == 0:\n",
        "            self.top_down_weights.append(input_vec.copy())\n",
        "            self.bottom_up_weights.append(input_vec / (self.epsilon + np.sum(input_vec)))\n",
        "            self.num_categories += 1\n",
        "            return 0\n",
        "\n",
        "        activations = self._activate(input_vec)\n",
        "        candidates = np.argsort(activations)[::-1]\n",
        "\n",
        "        for index in candidates:\n",
        "            match_score = self._match(input_vec, self.top_down_weights[index])\n",
        "            if match_score >= self.vigilance:\n",
        "                self._update_weights(index, input_vec)\n",
        "                return index\n",
        "\n",
        "        self.top_down_weights.append(input_vec.copy())\n",
        "        self.bottom_up_weights.append(input_vec / (self.epsilon + np.sum(input_vec)))\n",
        "        self.num_categories += 1\n",
        "        return self.num_categories - 1\n",
        "\n",
        "## 🔄 定義整合流程\n",
        "\n",
        "def process_and_classify(image: np.ndarray, polygons: List[np.ndarray], input_size=(32, 32), vigilance=0.85):\n",
        "    art = ART1(input_size=input_size[0] * input_size[1], vigilance=vigilance)\n",
        "\n",
        "    for i, poly in enumerate(polygons):\n",
        "        x, y, w, h = cv2.boundingRect(poly)\n",
        "        roi = image[y:y+h, x:x+w]\n",
        "        roi_rgb = cv2.cvtColor(roi, cv2.COLOR_BGR2RGB)\n",
        "\n",
        "        # KMeans 分群三次\n",
        "        n_clusters_seq = [10, 5, 3]\n",
        "        segmented_image = roi_rgb.copy()\n",
        "        for n_clusters in n_clusters_seq:\n",
        "            pixels = segmented_image.reshape(-1, 3)\n",
        "            kmeans = KMeans(n_clusters=n_clusters, random_state=42, n_init=10)\n",
        "            kmeans.fit(pixels)\n",
        "            labels = kmeans.labels_\n",
        "            centers = kmeans.cluster_centers_.astype('uint8')\n",
        "            segmented_image = centers[labels].reshape(h, w, 3)\n",
        "\n",
        "        # 最大區塊分析\n",
        "        pixels = segmented_image.reshape(-1, 3)\n",
        "        labels = labels.reshape(h, w)\n",
        "        y_coords, x_coords = np.meshgrid(np.arange(h), np.arange(w), indexing='ij')\n",
        "        data = pd.DataFrame(columns=['重心_x', '重心_y', '面積'])\n",
        "\n",
        "        for label in range(n_clusters_seq[-1]):\n",
        "            mask = (labels == label)\n",
        "            if not np.any(mask):\n",
        "                continue\n",
        "            x_c = x_coords[mask].mean()\n",
        "            y_c = y_coords[mask].mean()\n",
        "            area = np.sum(mask)\n",
        "            data.loc[label] = [x_c, y_c, area]\n",
        "\n",
        "        max_index = data['面積'].idxmax()\n",
        "        dis = np.sqrt((data['重心_x'] - data.loc[max_index, '重心_x'])**2 +\n",
        "                      (data['重心_y'] - data.loc[max_index, '重心_y'])**2)\n",
        "        data['與最大面積距離'] = dis\n",
        "\n",
        "        bin_labels = np.array([1 if lbl == max_index else 0 for lbl in labels.flatten()])\n",
        "        centers = np.array([[0, 0, 0], [255, 255, 255]])\n",
        "        segmented_image = centers[bin_labels].reshape(h, w, 3).astype(np.uint8)\n",
        "\n",
        "        # 形態學開運算 + 灰階 + 二值化\n",
        "        kernel = np.ones((3,3), np.uint8)\n",
        "        morph = cv2.morphologyEx(segmented_image, cv2.MORPH_OPEN, kernel)\n",
        "        morph_gray = cv2.cvtColor(morph, cv2.COLOR_RGB2GRAY)\n",
        "        _, binary = cv2.threshold(morph_gray, 128, 1, cv2.THRESH_BINARY)\n",
        "\n",
        "        # Resize + Flatten\n",
        "        binary_resized = cv2.resize(binary, input_size, interpolation=cv2.INTER_NEAREST)\n",
        "        vector = binary_resized.flatten()\n",
        "\n",
        "        # 分類並顯示結果\n",
        "        category = art.train(vector_copy)\n",
        "        print(f\"door_cell_{i+1} 分類為類別: {category}\")\n",
        "        plt.imshow(binary_resized, cmap='gray')\n",
        "        plt.title(f\"door_cell_{i+1} (類別 {category})\")\n",
        "        plt.axis('off')\n",
        "        plt.show()\n",
        "\n",
        "## 🔧 測試：匯入圖片與 polygon\n",
        "image = cv2.imread('/content/drive/MyDrive/night/2024-08-03_79.jpg')\n",
        "polygons = [\n",
        "    np.array([[626,207],[741,207],[736,321],[634,325]]),\n",
        "    np.array([[490,211],[605,208],[607,320],[502,326]]),\n",
        "    np.array([[363,219],[469,215],[478,350],[383,353]]),\n",
        "    np.array([[252,232],[343,225],[357,334],[270,338]]),\n",
        "    np.array([[160,244],[236,234],[249,333],[181,345]])\n",
        "]\n",
        "\n",
        "process_and_classify(image, polygons, input_size=(112, 90), vigilance=0.85)\n",
        "\n"
      ],
      "metadata": {
        "colab": {
          "base_uri": "https://localhost:8080/",
          "height": 1000
        },
        "id": "ow8HoQhUzlif",
        "outputId": "041ac579-a60d-4232-f698-61bc7e9f6c9e"
      },
      "execution_count": null,
      "outputs": [
        {
          "output_type": "stream",
          "name": "stdout",
          "text": [
            "door_cell_1 分類為類別: 0\n"
          ]
        },
        {
          "output_type": "stream",
          "name": "stderr",
          "text": [
            "/usr/local/lib/python3.11/dist-packages/IPython/core/pylabtools.py:151: UserWarning: Glyph 39006 (\\N{CJK UNIFIED IDEOGRAPH-985E}) missing from font(s) DejaVu Sans.\n",
            "  fig.canvas.print_figure(bytes_io, **kw)\n",
            "/usr/local/lib/python3.11/dist-packages/IPython/core/pylabtools.py:151: UserWarning: Glyph 21029 (\\N{CJK UNIFIED IDEOGRAPH-5225}) missing from font(s) DejaVu Sans.\n",
            "  fig.canvas.print_figure(bytes_io, **kw)\n"
          ]
        },
        {
          "output_type": "display_data",
          "data": {
            "text/plain": [
              "<Figure size 640x480 with 1 Axes>"
            ],
            "image/png": "[encoded data removed]"
          },
          "metadata": {}
        },
        {
          "output_type": "stream",
          "name": "stdout",
          "text": [
            "door_cell_2 分類為類別: 0\n"
          ]
        },
        {
          "output_type": "stream",
          "name": "stderr",
          "text": [
            "/usr/local/lib/python3.11/dist-packages/IPython/core/pylabtools.py:151: UserWarning: Glyph 39006 (\\N{CJK UNIFIED IDEOGRAPH-985E}) missing from font(s) DejaVu Sans.\n",
            "  fig.canvas.print_figure(bytes_io, **kw)\n",
            "/usr/local/lib/python3.11/dist-packages/IPython/core/pylabtools.py:151: UserWarning: Glyph 21029 (\\N{CJK UNIFIED IDEOGRAPH-5225}) missing from font(s) DejaVu Sans.\n",
            "  fig.canvas.print_figure(bytes_io, **kw)\n"
          ]
        },
        {
          "output_type": "display_data",
          "data": {
            "text/plain": [
              "<Figure size 640x480 with 1 Axes>"
            ],
            "image/png": "[encoded data removed]"
          },
          "metadata": {}
        },
        {
          "output_type": "stream",
          "name": "stdout",
          "text": [
            "door_cell_3 分類為類別: 0\n"
          ]
        },
        {
          "output_type": "stream",
          "name": "stderr",
          "text": [
            "/usr/local/lib/python3.11/dist-packages/IPython/core/pylabtools.py:151: UserWarning: Glyph 39006 (\\N{CJK UNIFIED IDEOGRAPH-985E}) missing from font(s) DejaVu Sans.\n",
            "  fig.canvas.print_figure(bytes_io, **kw)\n",
            "/usr/local/lib/python3.11/dist-packages/IPython/core/pylabtools.py:151: UserWarning: Glyph 21029 (\\N{CJK UNIFIED IDEOGRAPH-5225}) missing from font(s) DejaVu Sans.\n",
            "  fig.canvas.print_figure(bytes_io, **kw)\n"
          ]
        },
        {
          "output_type": "display_data",
          "data": {
            "text/plain": [
              "<Figure size 640x480 with 1 Axes>"
            ],
            "image/png": "[encoded data removed]"
          },
          "metadata": {}
        },
        {
          "output_type": "stream",
          "name": "stdout",
          "text": [
            "door_cell_4 分類為類別: 0\n"
          ]
        },
        {
          "output_type": "stream",
          "name": "stderr",
          "text": [
            "/usr/local/lib/python3.11/dist-packages/IPython/core/pylabtools.py:151: UserWarning: Glyph 39006 (\\N{CJK UNIFIED IDEOGRAPH-985E}) missing from font(s) DejaVu Sans.\n",
            "  fig.canvas.print_figure(bytes_io, **kw)\n",
            "/usr/local/lib/python3.11/dist-packages/IPython/core/pylabtools.py:151: UserWarning: Glyph 21029 (\\N{CJK UNIFIED IDEOGRAPH-5225}) missing from font(s) DejaVu Sans.\n",
            "  fig.canvas.print_figure(bytes_io, **kw)\n"
          ]
        },
        {
          "output_type": "display_data",
          "data": {
            "text/plain": [
              "<Figure size 640x480 with 1 Axes>"
            ],
            "image/png": "[encoded data removed]"
          },
          "metadata": {}
        },
        {
          "output_type": "stream",
          "name": "stdout",
          "text": [
            "door_cell_5 分類為類別: 0\n"
          ]
        },
        {
          "output_type": "stream",
          "name": "stderr",
          "text": [
            "/usr/local/lib/python3.11/dist-packages/IPython/core/pylabtools.py:151: UserWarning: Glyph 39006 (\\N{CJK UNIFIED IDEOGRAPH-985E}) missing from font(s) DejaVu Sans.\n",
            "  fig.canvas.print_figure(bytes_io, **kw)\n",
            "/usr/local/lib/python3.11/dist-packages/IPython/core/pylabtools.py:151: UserWarning: Glyph 21029 (\\N{CJK UNIFIED IDEOGRAPH-5225}) missing from font(s) DejaVu Sans.\n",
            "  fig.canvas.print_figure(bytes_io, **kw)\n"
          ]
        },
        {
          "output_type": "display_data",
          "data": {
            "text/plain": [
              "<Figure size 640x480 with 1 Axes>"
            ],
            "image/png": "[encoded data removed]"
          },
          "metadata": {}
        }
      ]
    }
  ]
}